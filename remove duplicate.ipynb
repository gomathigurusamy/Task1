{
 "cells": [
  {
   "cell_type": "code",
   "execution_count": 3,
   "metadata": {},
   "outputs": [
    {
     "output_type": "stream",
     "name": "stdout",
     "text": "hello\n"
    }
   ],
   "source": [
    "print(\"hello\")"
   ]
  },
  {
   "cell_type": "code",
   "execution_count": 4,
   "metadata": {},
   "outputs": [],
   "source": [
    "import pandas as pd"
   ]
  },
  {
   "cell_type": "code",
   "execution_count": 5,
   "metadata": {},
   "outputs": [],
   "source": [
    "file_df = pd.read_excel(\"D:\\Temp\\Duplicates.xlsx\")\n"
   ]
  },
  {
   "cell_type": "code",
   "execution_count": 6,
   "metadata": {},
   "outputs": [
    {
     "output_type": "stream",
     "name": "stdout",
     "text": "Name                Address  Call Date                 Notes\n0   Barbara Walters      301 Wilshire BLvd 2018-10-12                   NaN\n1             Apple        1 Apple ParkWay 2018-10-13            Great call\n2             Apple        1 Apple ParkWay 2018-10-13             Good Call\n3             Apple        1 Apple ParkWay 2018-10-13             Okay Call\n4             Apple        1 Apple ParkWay 2018-10-15  They loved the pitch\n5    Lauren Shuster  255 E Grossman Avenue 2018-10-16                   NaN\n6         Bob Scott         42 Wallaby Way 2018-10-17     Bought golf clubs\n7   Albert Einstein       6 Princeton Blvd 2018-10-18      Too smart for me\n8     Romelo Lukaku      234 Golf Court Rd 2018-10-19                   NaN\n9   Natalie Portman  17 Beverly Hills Road 2018-10-20                   NaN\n10      Gareth Bale     190 E Suffix Drive 2018-10-21          Great accent\n11      Gareth Bale     190 E Suffix Drive 2018-10-21                   NaN\n12     Jackson Pool         491 1st Street 2018-10-23                   NaN\n13  Natalie Portman  17 Beverly Hills Road 2018-10-20             Very kind\n"
    }
   ],
   "source": [
    "print(file_df)"
   ]
  },
  {
   "cell_type": "code",
   "execution_count": 7,
   "metadata": {},
   "outputs": [
    {
     "output_type": "stream",
     "name": "stdout",
     "text": "Name                Address  Call Date                 Notes\n0   Barbara Walters      301 Wilshire BLvd 2018-10-12                   NaN\n1             Apple        1 Apple ParkWay 2018-10-13            Great call\n4             Apple        1 Apple ParkWay 2018-10-15  They loved the pitch\n5    Lauren Shuster  255 E Grossman Avenue 2018-10-16                   NaN\n6         Bob Scott         42 Wallaby Way 2018-10-17     Bought golf clubs\n7   Albert Einstein       6 Princeton Blvd 2018-10-18      Too smart for me\n8     Romelo Lukaku      234 Golf Court Rd 2018-10-19                   NaN\n9   Natalie Portman  17 Beverly Hills Road 2018-10-20                   NaN\n10      Gareth Bale     190 E Suffix Drive 2018-10-21          Great accent\n12     Jackson Pool         491 1st Street 2018-10-23                   NaN\n"
    }
   ],
   "source": [
    "file_df_first_record = file_df.drop_duplicates(subset=[\"Name\", \"Address\", \"Call Date\"], keep=\"first\")\n",
    "print(file_df_first_record)"
   ]
  },
  {
   "cell_type": "code",
   "execution_count": 8,
   "metadata": {},
   "outputs": [
    {
     "output_type": "stream",
     "name": "stdout",
     "text": "Name                Address  Call Date                 Notes\n0   Barbara Walters      301 Wilshire BLvd 2018-10-12                   NaN\n3             Apple        1 Apple ParkWay 2018-10-13             Okay Call\n4             Apple        1 Apple ParkWay 2018-10-15  They loved the pitch\n5    Lauren Shuster  255 E Grossman Avenue 2018-10-16                   NaN\n6         Bob Scott         42 Wallaby Way 2018-10-17     Bought golf clubs\n7   Albert Einstein       6 Princeton Blvd 2018-10-18      Too smart for me\n8     Romelo Lukaku      234 Golf Court Rd 2018-10-19                   NaN\n11      Gareth Bale     190 E Suffix Drive 2018-10-21                   NaN\n12     Jackson Pool         491 1st Street 2018-10-23                   NaN\n13  Natalie Portman  17 Beverly Hills Road 2018-10-20             Very kind\n"
    }
   ],
   "source": [
    "file_df_last_record = file_df.drop_duplicates(subset=[\"Name\", \"Address\", \"Call Date\"], keep=\"last\")\n",
    "print(file_df_last_record)"
   ]
  },
  {
   "cell_type": "code",
   "execution_count": 10,
   "metadata": {},
   "outputs": [],
   "source": [
    "file_df_last_record.to_excel(\"Duplicates_Last_Record.xlsx\", index=False)\n"
   ]
  },
  {
   "cell_type": "code",
   "execution_count": 11,
   "metadata": {},
   "outputs": [
    {
     "output_type": "stream",
     "name": "stdout",
     "text": "Name                Address  Call Date                 Notes\n0   Barbara Walters      301 Wilshire BLvd 2018-10-12                   NaN\n4             Apple        1 Apple ParkWay 2018-10-15  They loved the pitch\n5    Lauren Shuster  255 E Grossman Avenue 2018-10-16                   NaN\n6         Bob Scott         42 Wallaby Way 2018-10-17     Bought golf clubs\n7   Albert Einstein       6 Princeton Blvd 2018-10-18      Too smart for me\n8     Romelo Lukaku      234 Golf Court Rd 2018-10-19                   NaN\n12     Jackson Pool         491 1st Street 2018-10-23                   NaN\n"
    }
   ],
   "source": [
    "file_df_remove_all = file_df.drop_duplicates(subset=[\"Name\", \"Address\", \"Call Date\"], keep=False)\n",
    "print(file_df_remove_all)"
   ]
  },
  {
   "cell_type": "code",
   "execution_count": 12,
   "metadata": {},
   "outputs": [],
   "source": [
    "file_df_remove_all.to_excel(\"Duplicates_All_Removed.xlsx\", index=False)"
   ]
  },
  {
   "cell_type": "code",
   "execution_count": 13,
   "metadata": {},
   "outputs": [
    {
     "output_type": "stream",
     "name": "stdout",
     "text": "0     False\n1      True\n2      True\n3      True\n4     False\n5     False\n6     False\n7     False\n8     False\n9      True\n10     True\n11     True\n12    False\n13     True\ndtype: bool\n"
    }
   ],
   "source": [
    "duplicate_row_index = file_df.duplicated(subset=[\"Name\", \"Address\", \"Call Date\"], keep=False)\n",
    "print(duplicate_row_index)"
   ]
  },
  {
   "cell_type": "code",
   "execution_count": 14,
   "metadata": {},
   "outputs": [
    {
     "output_type": "stream",
     "name": "stdout",
     "text": "Name                Address  Call Date         Notes\n1             Apple        1 Apple ParkWay 2018-10-13    Great call\n2             Apple        1 Apple ParkWay 2018-10-13     Good Call\n3             Apple        1 Apple ParkWay 2018-10-13     Okay Call\n9   Natalie Portman  17 Beverly Hills Road 2018-10-20           NaN\n10      Gareth Bale     190 E Suffix Drive 2018-10-21  Great accent\n11      Gareth Bale     190 E Suffix Drive 2018-10-21           NaN\n13  Natalie Portman  17 Beverly Hills Road 2018-10-20     Very kind\n"
    }
   ],
   "source": [
    "all_duplicate_rows = file_df[duplicate_row_index]\n",
    "print(all_duplicate_rows)"
   ]
  },
  {
   "cell_type": "code",
   "execution_count": null,
   "metadata": {},
   "outputs": [],
   "source": []
  }
 ],
 "metadata": {
  "language_info": {
   "codemirror_mode": {
    "name": "ipython",
    "version": 3
   },
   "file_extension": ".py",
   "mimetype": "text/x-python",
   "name": "python",
   "nbconvert_exporter": "python",
   "pygments_lexer": "ipython3",
   "version": "3.6.7-final"
  },
  "orig_nbformat": 2,
  "kernelspec": {
   "name": "python36732bit6fcd1e66dfa64f0f8e3a387a11e08d63",
   "display_name": "Python 3.6.7 32-bit"
  }
 },
 "nbformat": 4,
 "nbformat_minor": 2
}